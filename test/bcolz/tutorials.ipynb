{
 "cells": [
  {
   "cell_type": "markdown",
   "metadata": {},
   "source": [
    "# Tutorials"
   ]
  },
  {
   "cell_type": "markdown",
   "metadata": {},
   "source": [
    "This set of tutorials will show you how to perform the most common\n",
    "operations with `carray` and `ctable` objects, and you will see in which\n",
    "scenarios they perform best so that you can take the most of \n",
    "their features.\n",
    "\n",
    "``bcolz`` is part of the blosc ecosystem and the speed of many operations in these objects are possible thanks to <a href=\"http://www.blosc.org/\">blosc</a> an extremely fast, multi-threaded, meta-compressor library.\n",
    "\n",
    "Note: The `ctable` objects depend on `carray` objects, therefore the reader is \n",
    "recommended to understand first how `carray` objects behave \n",
    "before moving to the second part of the tutorial."
   ]
  },
  {
   "cell_type": "markdown",
   "metadata": {},
   "source": [
    "Index:\n",
    "  1. [Tutorial carray](tutorial_carray.ipynb)\n",
    "  - [Interlude: measuring memory consumption on carrays](tutorial_carray_memory_profile.ipynb)\n",
    "  - [Tutorial ctable](tutorial_ctable.ipynb)"
   ]
  },
  {
   "cell_type": "code",
   "execution_count": null,
   "metadata": {
    "collapsed": true
   },
   "outputs": [],
   "source": []
  }
 ],
 "metadata": {
  "kernelspec": {
   "display_name": "Python 2",
   "language": "python",
   "name": "python2"
  },
  "language_info": {
   "codemirror_mode": {
    "name": "ipython",
    "version": 2
   },
   "file_extension": ".py",
   "mimetype": "text/x-python",
   "name": "python",
   "nbconvert_exporter": "python",
   "pygments_lexer": "ipython2",
   "version": "2.7.10"
  }
 },
 "nbformat": 4,
 "nbformat_minor": 0
}
